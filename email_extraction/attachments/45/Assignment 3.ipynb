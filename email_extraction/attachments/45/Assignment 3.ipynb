{
 "cells": [
  {
   "cell_type": "code",
   "execution_count": 1,
   "id": "daa9c0c5",
   "metadata": {},
   "outputs": [],
   "source": [
    "# following assignment deals with the central tendencies of the given data set"
   ]
  },
  {
   "cell_type": "markdown",
   "id": "7867d9ff",
   "metadata": {},
   "source": [
    "Part 1 : Age,Salary"
   ]
  },
  {
   "cell_type": "code",
   "execution_count": 5,
   "id": "c92fd920",
   "metadata": {},
   "outputs": [],
   "source": [
    "import pandas as pd\n",
    "import numpy as np\n"
   ]
  },
  {
   "cell_type": "code",
   "execution_count": 7,
   "id": "8cd2a086",
   "metadata": {},
   "outputs": [
    {
     "data": {
      "text/plain": [
       "(457, 9)"
      ]
     },
     "execution_count": 7,
     "metadata": {},
     "output_type": "execute_result"
    }
   ],
   "source": [
    "dataset = pd.read_csv(\"nba.csv\")  \n",
    "dataset.shape"
   ]
  },
  {
   "cell_type": "code",
   "execution_count": 33,
   "id": "1ce13c7d",
   "metadata": {},
   "outputs": [],
   "source": [
    "# actual = df.describe() # -> these are the results obtained after using the inbuit functions"
   ]
  },
  {
   "cell_type": "code",
   "execution_count": 74,
   "id": "85142139",
   "metadata": {},
   "outputs": [
    {
     "data": {
      "text/plain": [
       "Name         object\n",
       "Team         object\n",
       "Number      float64\n",
       "Position     object\n",
       "Age         float64\n",
       "Height       object\n",
       "Weight      float64\n",
       "College      object\n",
       "Salary      float64\n",
       "dtype: object"
      ]
     },
     "execution_count": 74,
     "metadata": {},
     "output_type": "execute_result"
    }
   ],
   "source": [
    "dataset.dtypes"
   ]
  },
  {
   "cell_type": "code",
   "execution_count": 34,
   "id": "db5cbc61",
   "metadata": {},
   "outputs": [
    {
     "data": {
      "text/html": [
       "<div>\n",
       "<style scoped>\n",
       "    .dataframe tbody tr th:only-of-type {\n",
       "        vertical-align: middle;\n",
       "    }\n",
       "\n",
       "    .dataframe tbody tr th {\n",
       "        vertical-align: top;\n",
       "    }\n",
       "\n",
       "    .dataframe thead th {\n",
       "        text-align: right;\n",
       "    }\n",
       "</style>\n",
       "<table border=\"1\" class=\"dataframe\">\n",
       "  <thead>\n",
       "    <tr style=\"text-align: right;\">\n",
       "      <th></th>\n",
       "      <th>Number</th>\n",
       "      <th>Age</th>\n",
       "      <th>Weight</th>\n",
       "    </tr>\n",
       "  </thead>\n",
       "  <tbody>\n",
       "    <tr>\n",
       "      <th>count</th>\n",
       "      <td>457.000000</td>\n",
       "      <td>457.000000</td>\n",
       "      <td>457.000000</td>\n",
       "    </tr>\n",
       "    <tr>\n",
       "      <th>mean</th>\n",
       "      <td>17.678337</td>\n",
       "      <td>26.938731</td>\n",
       "      <td>221.522976</td>\n",
       "    </tr>\n",
       "    <tr>\n",
       "      <th>std</th>\n",
       "      <td>15.966090</td>\n",
       "      <td>4.404016</td>\n",
       "      <td>26.368343</td>\n",
       "    </tr>\n",
       "    <tr>\n",
       "      <th>min</th>\n",
       "      <td>0.000000</td>\n",
       "      <td>19.000000</td>\n",
       "      <td>161.000000</td>\n",
       "    </tr>\n",
       "    <tr>\n",
       "      <th>25%</th>\n",
       "      <td>5.000000</td>\n",
       "      <td>24.000000</td>\n",
       "      <td>200.000000</td>\n",
       "    </tr>\n",
       "    <tr>\n",
       "      <th>50%</th>\n",
       "      <td>13.000000</td>\n",
       "      <td>26.000000</td>\n",
       "      <td>220.000000</td>\n",
       "    </tr>\n",
       "    <tr>\n",
       "      <th>75%</th>\n",
       "      <td>25.000000</td>\n",
       "      <td>30.000000</td>\n",
       "      <td>240.000000</td>\n",
       "    </tr>\n",
       "    <tr>\n",
       "      <th>max</th>\n",
       "      <td>99.000000</td>\n",
       "      <td>40.000000</td>\n",
       "      <td>307.000000</td>\n",
       "    </tr>\n",
       "  </tbody>\n",
       "</table>\n",
       "</div>"
      ],
      "text/plain": [
       "           Number         Age      Weight\n",
       "count  457.000000  457.000000  457.000000\n",
       "mean    17.678337   26.938731  221.522976\n",
       "std     15.966090    4.404016   26.368343\n",
       "min      0.000000   19.000000  161.000000\n",
       "25%      5.000000   24.000000  200.000000\n",
       "50%     13.000000   26.000000  220.000000\n",
       "75%     25.000000   30.000000  240.000000\n",
       "max     99.000000   40.000000  307.000000"
      ]
     },
     "execution_count": 34,
     "metadata": {},
     "output_type": "execute_result"
    }
   ],
   "source": [
    "# actual"
   ]
  },
  {
   "cell_type": "code",
   "execution_count": null,
   "id": "83b2984e",
   "metadata": {},
   "outputs": [],
   "source": []
  },
  {
   "cell_type": "code",
   "execution_count": 75,
   "id": "a09e25da",
   "metadata": {},
   "outputs": [
    {
     "data": {
      "text/plain": [
       "Name         1\n",
       "Team         1\n",
       "Number       1\n",
       "Position     1\n",
       "Age          1\n",
       "Height       1\n",
       "Weight       1\n",
       "College     85\n",
       "Salary      12\n",
       "dtype: int64"
      ]
     },
     "execution_count": 75,
     "metadata": {},
     "output_type": "execute_result"
    }
   ],
   "source": [
    "dataset.isnull().sum()"
   ]
  },
  {
   "cell_type": "code",
   "execution_count": 76,
   "id": "c59f2622",
   "metadata": {},
   "outputs": [],
   "source": [
    "mode = dataset['College'].mode()[0]\n",
    "dataset['College'].fillna(mode,inplace=True)"
   ]
  },
  {
   "cell_type": "code",
   "execution_count": 77,
   "id": "ce800c4a",
   "metadata": {},
   "outputs": [
    {
     "data": {
      "text/html": [
       "<div>\n",
       "<style scoped>\n",
       "    .dataframe tbody tr th:only-of-type {\n",
       "        vertical-align: middle;\n",
       "    }\n",
       "\n",
       "    .dataframe tbody tr th {\n",
       "        vertical-align: top;\n",
       "    }\n",
       "\n",
       "    .dataframe thead th {\n",
       "        text-align: right;\n",
       "    }\n",
       "</style>\n",
       "<table border=\"1\" class=\"dataframe\">\n",
       "  <thead>\n",
       "    <tr style=\"text-align: right;\">\n",
       "      <th></th>\n",
       "      <th>Name</th>\n",
       "      <th>Team</th>\n",
       "      <th>Number</th>\n",
       "      <th>Position</th>\n",
       "      <th>Age</th>\n",
       "      <th>Height</th>\n",
       "      <th>Weight</th>\n",
       "      <th>College</th>\n",
       "      <th>Salary</th>\n",
       "    </tr>\n",
       "  </thead>\n",
       "  <tbody>\n",
       "    <tr>\n",
       "      <th>0</th>\n",
       "      <td>Avery Bradley</td>\n",
       "      <td>Boston Celtics</td>\n",
       "      <td>0.0</td>\n",
       "      <td>PG</td>\n",
       "      <td>25.0</td>\n",
       "      <td>6-2</td>\n",
       "      <td>180.0</td>\n",
       "      <td>Texas</td>\n",
       "      <td>7730337.0</td>\n",
       "    </tr>\n",
       "    <tr>\n",
       "      <th>1</th>\n",
       "      <td>Jae Crowder</td>\n",
       "      <td>Boston Celtics</td>\n",
       "      <td>99.0</td>\n",
       "      <td>SF</td>\n",
       "      <td>25.0</td>\n",
       "      <td>6-6</td>\n",
       "      <td>235.0</td>\n",
       "      <td>Marquette</td>\n",
       "      <td>6796117.0</td>\n",
       "    </tr>\n",
       "    <tr>\n",
       "      <th>2</th>\n",
       "      <td>John Holland</td>\n",
       "      <td>Boston Celtics</td>\n",
       "      <td>30.0</td>\n",
       "      <td>SG</td>\n",
       "      <td>27.0</td>\n",
       "      <td>6-5</td>\n",
       "      <td>205.0</td>\n",
       "      <td>Boston University</td>\n",
       "      <td>NaN</td>\n",
       "    </tr>\n",
       "    <tr>\n",
       "      <th>3</th>\n",
       "      <td>R.J. Hunter</td>\n",
       "      <td>Boston Celtics</td>\n",
       "      <td>28.0</td>\n",
       "      <td>SG</td>\n",
       "      <td>22.0</td>\n",
       "      <td>6-5</td>\n",
       "      <td>185.0</td>\n",
       "      <td>Georgia State</td>\n",
       "      <td>1148640.0</td>\n",
       "    </tr>\n",
       "    <tr>\n",
       "      <th>4</th>\n",
       "      <td>Jonas Jerebko</td>\n",
       "      <td>Boston Celtics</td>\n",
       "      <td>8.0</td>\n",
       "      <td>PF</td>\n",
       "      <td>29.0</td>\n",
       "      <td>6-10</td>\n",
       "      <td>231.0</td>\n",
       "      <td>Kentucky</td>\n",
       "      <td>5000000.0</td>\n",
       "    </tr>\n",
       "    <tr>\n",
       "      <th>...</th>\n",
       "      <td>...</td>\n",
       "      <td>...</td>\n",
       "      <td>...</td>\n",
       "      <td>...</td>\n",
       "      <td>...</td>\n",
       "      <td>...</td>\n",
       "      <td>...</td>\n",
       "      <td>...</td>\n",
       "      <td>...</td>\n",
       "    </tr>\n",
       "    <tr>\n",
       "      <th>452</th>\n",
       "      <td>Trey Lyles</td>\n",
       "      <td>Utah Jazz</td>\n",
       "      <td>41.0</td>\n",
       "      <td>PF</td>\n",
       "      <td>20.0</td>\n",
       "      <td>6-10</td>\n",
       "      <td>234.0</td>\n",
       "      <td>Kentucky</td>\n",
       "      <td>2239800.0</td>\n",
       "    </tr>\n",
       "    <tr>\n",
       "      <th>453</th>\n",
       "      <td>Shelvin Mack</td>\n",
       "      <td>Utah Jazz</td>\n",
       "      <td>8.0</td>\n",
       "      <td>PG</td>\n",
       "      <td>26.0</td>\n",
       "      <td>6-3</td>\n",
       "      <td>203.0</td>\n",
       "      <td>Butler</td>\n",
       "      <td>2433333.0</td>\n",
       "    </tr>\n",
       "    <tr>\n",
       "      <th>454</th>\n",
       "      <td>Raul Neto</td>\n",
       "      <td>Utah Jazz</td>\n",
       "      <td>25.0</td>\n",
       "      <td>PG</td>\n",
       "      <td>24.0</td>\n",
       "      <td>6-1</td>\n",
       "      <td>179.0</td>\n",
       "      <td>Kentucky</td>\n",
       "      <td>900000.0</td>\n",
       "    </tr>\n",
       "    <tr>\n",
       "      <th>455</th>\n",
       "      <td>Tibor Pleiss</td>\n",
       "      <td>Utah Jazz</td>\n",
       "      <td>21.0</td>\n",
       "      <td>C</td>\n",
       "      <td>26.0</td>\n",
       "      <td>7-3</td>\n",
       "      <td>256.0</td>\n",
       "      <td>Kentucky</td>\n",
       "      <td>2900000.0</td>\n",
       "    </tr>\n",
       "    <tr>\n",
       "      <th>456</th>\n",
       "      <td>Jeff Withey</td>\n",
       "      <td>Utah Jazz</td>\n",
       "      <td>24.0</td>\n",
       "      <td>C</td>\n",
       "      <td>26.0</td>\n",
       "      <td>7-0</td>\n",
       "      <td>231.0</td>\n",
       "      <td>Kansas</td>\n",
       "      <td>947276.0</td>\n",
       "    </tr>\n",
       "  </tbody>\n",
       "</table>\n",
       "<p>457 rows × 9 columns</p>\n",
       "</div>"
      ],
      "text/plain": [
       "              Name            Team  Number Position   Age Height  Weight   \n",
       "0    Avery Bradley  Boston Celtics     0.0       PG  25.0    6-2   180.0  \\\n",
       "1      Jae Crowder  Boston Celtics    99.0       SF  25.0    6-6   235.0   \n",
       "2     John Holland  Boston Celtics    30.0       SG  27.0    6-5   205.0   \n",
       "3      R.J. Hunter  Boston Celtics    28.0       SG  22.0    6-5   185.0   \n",
       "4    Jonas Jerebko  Boston Celtics     8.0       PF  29.0   6-10   231.0   \n",
       "..             ...             ...     ...      ...   ...    ...     ...   \n",
       "452     Trey Lyles       Utah Jazz    41.0       PF  20.0   6-10   234.0   \n",
       "453   Shelvin Mack       Utah Jazz     8.0       PG  26.0    6-3   203.0   \n",
       "454      Raul Neto       Utah Jazz    25.0       PG  24.0    6-1   179.0   \n",
       "455   Tibor Pleiss       Utah Jazz    21.0        C  26.0    7-3   256.0   \n",
       "456    Jeff Withey       Utah Jazz    24.0        C  26.0    7-0   231.0   \n",
       "\n",
       "               College     Salary  \n",
       "0                Texas  7730337.0  \n",
       "1            Marquette  6796117.0  \n",
       "2    Boston University        NaN  \n",
       "3        Georgia State  1148640.0  \n",
       "4             Kentucky  5000000.0  \n",
       "..                 ...        ...  \n",
       "452           Kentucky  2239800.0  \n",
       "453             Butler  2433333.0  \n",
       "454           Kentucky   900000.0  \n",
       "455           Kentucky  2900000.0  \n",
       "456             Kansas   947276.0  \n",
       "\n",
       "[457 rows x 9 columns]"
      ]
     },
     "execution_count": 77,
     "metadata": {},
     "output_type": "execute_result"
    }
   ],
   "source": [
    "dataset.drop(457 , inplace = True)\n",
    "dataset"
   ]
  },
  {
   "cell_type": "code",
   "execution_count": 30,
   "id": "1e1429d4",
   "metadata": {},
   "outputs": [],
   "source": [
    "df['Salary'] = df['Salary'].fillna(df['Salary'].mean)"
   ]
  },
  {
   "cell_type": "markdown",
   "id": "02fa8805",
   "metadata": {},
   "source": [
    "Mean"
   ]
  },
  {
   "cell_type": "code",
   "execution_count": 38,
   "id": "51028af5",
   "metadata": {},
   "outputs": [
    {
     "name": "stdout",
     "output_type": "stream",
     "text": [
      "Mean age according to the dataset is:  26.938730853391686\n",
      "The mean using inbuit function is:  26.938730853391686\n"
     ]
    }
   ],
   "source": [
    "arrAge = np.asarray(df['Age'])\n",
    "\n",
    "arrsize = len(arrAge)\n",
    "\n",
    "count = 0\n",
    "for i in arrAge:\n",
    "    count += i\n",
    "    i+= 1\n",
    "\n",
    "meanAge = count / arrsize\n",
    "print('Mean age according to the dataset is: ',meanAge)\n",
    "\n",
    "\n",
    "print('The mean using inbuit function is: ', actual.iloc[1][1])\n",
    "   "
   ]
  },
  {
   "cell_type": "markdown",
   "id": "c3f22cfe",
   "metadata": {},
   "source": [
    "Median"
   ]
  },
  {
   "cell_type": "code",
   "execution_count": 43,
   "id": "10975d8c",
   "metadata": {},
   "outputs": [
    {
     "name": "stdout",
     "output_type": "stream",
     "text": [
      "228\n",
      "Median of the dataset is:  31.0\n"
     ]
    }
   ],
   "source": [
    "np.sort(arrAge)\n",
    "middle = arrsize / 2\n",
    "print(int(middle))\n",
    "print('Median of the dataset is: ' , arrAge[int(middle)])"
   ]
  },
  {
   "cell_type": "markdown",
   "id": "8168cb27",
   "metadata": {},
   "source": [
    "Minimum and Maximum"
   ]
  },
  {
   "cell_type": "code",
   "execution_count": 49,
   "id": "aaa9a3c6",
   "metadata": {},
   "outputs": [
    {
     "name": "stdout",
     "output_type": "stream",
     "text": [
      "The maximum value of Age in the dataset is:  40.0\n",
      "The minimun value of Age in the dataset is:  19.0\n"
     ]
    }
   ],
   "source": [
    "import sys\n",
    "INT_MIN = sys.maxsize\n",
    "INT_MAX = -sys.maxsize - 1\n",
    "\n",
    "for i in arrAge:\n",
    "    if(i < INT_MIN):\n",
    "        INT_MIN = i\n",
    "        \n",
    "for i in arrAge:import kagglehub\n",
    "\n",
    "# Download latest version\n",
    "path = kagglehub.dataset_download(\"vsharma19/nbacsv\" , \"\" )\n",
    "\n",
    "print(\"Path to dataset files:\", path)\n",
    "    if(i > INT_MAX):\n",
    "        INT_MAX = i\n",
    "        \n",
    "print('The maximum value of Age in the dataset is: ', INT_MAX)\n",
    "print('The minimun value of Age in the dataset is: ', INT_MIN)\n",
    "        "
   ]
  },
  {
   "cell_type": "markdown",
   "id": "de92c351",
   "metadata": {},
   "source": [
    "Standard Deviation"
   ]
  },
  {
   "cell_type": "code",
   "execution_count": 52,
   "id": "df16632b",
   "metadata": {},
   "outputs": [
    {
     "name": "stdout",
     "output_type": "stream",
     "text": [
      "The standard deviation of the data is:  4.284030818316623\n"
     ]
    }
   ],
   "source": [
    "squaredValues = [ (i - meanAge) ** 2 for i in arrAge ]\n",
    "count = 0\n",
    "for i in squaredValues:\n",
    "    count += i\n",
    "\n",
    "variance = count / len(squaredValues) - 1\n",
    "\n",
    "sd = variance ** 0.5\n",
    "\n",
    "print('The standard deviation of the data is: ',sd)"
   ]
  },
  {
   "cell_type": "code",
   "execution_count": 53,
   "id": "96176d94",
   "metadata": {},
   "outputs": [],
   "source": [
    "import matplotlib.pyplot as plt\n",
    "import seaborn as sns"
   ]
  },
  {
   "cell_type": "markdown",
   "id": "20ea5c23",
   "metadata": {},
   "source": [
    "    Grouping the data based on age"
   ]
  },
  {
   "cell_type": "code",
   "execution_count": 61,
   "id": "4da87ba5",
   "metadata": {},
   "outputs": [],
   "source": [
    "bins = [19 , 25 , 31 , 36 , 40]\n",
    "labels = ['19 - 24' , '25 - 30' , '31 - 35' , '36 - 40']\n",
    "\n",
    "df['AgeGroup'] = pd.cut(df['Age'], bins=bins,labels=labels, right=False)"
   ]
  },
  {
   "cell_type": "code",
   "execution_count": 67,
   "id": "8f355986",
   "metadata": {},
   "outputs": [
    {
     "data": {
      "text/plain": [
       "AgeGroup\n",
       "25 - 30    212\n",
       "19 - 24    154\n",
       "31 - 35     68\n",
       "36 - 40     20\n",
       "Name: count, dtype: int64"
      ]
     },
     "execution_count": 67,
     "metadata": {},
     "output_type": "execute_result"
    }
   ],
   "source": [
    "df[\"AgeGroup\"].value_counts()"
   ]
  },
  {
   "cell_type": "code",
   "execution_count": 71,
   "id": "91b1ef68",
   "metadata": {},
   "outputs": [
    {
     "data": {
      "text/plain": [
       "dtype('O')"
      ]
     },
     "execution_count": 71,
     "metadata": {},
     "output_type": "execute_result"
    }
   ],
   "source": [
    "df['Salary'].dtype"
   ]
  },
  {
   "cell_type": "code",
   "execution_count": 78,
   "id": "46c7efb0",
   "metadata": {},
   "outputs": [],
   "source": [
    "dataset['AgeGroup'] = pd.cut(dataset['Age'], bins=bins,labels=labels, right=False)"
   ]
  },
  {
   "cell_type": "code",
   "execution_count": 79,
   "id": "c9836096",
   "metadata": {},
   "outputs": [
    {
     "data": {
      "text/plain": [
       "AgeGroup\n",
       "25 - 30    212\n",
       "19 - 24    154\n",
       "31 - 35     68\n",
       "36 - 40     20\n",
       "Name: count, dtype: int64"
      ]
     },
     "execution_count": 79,
     "metadata": {},
     "output_type": "execute_result"
    }
   ],
   "source": [
    "dataset['AgeGroup'].value_counts()"
   ]
  },
  {
   "cell_type": "code",
   "execution_count": 80,
   "id": "0498eff0",
   "metadata": {},
   "outputs": [
    {
     "data": {
      "text/plain": [
       "AgeGroup\n",
       "19 - 24    2.706212e+06\n",
       "25 - 30    5.895838e+06\n",
       "31 - 35    6.662026e+06\n",
       "36 - 40    3.847918e+06\n",
       "Name: Salary, dtype: float64"
      ]
     },
     "execution_count": 80,
     "metadata": {},
     "output_type": "execute_result"
    }
   ],
   "source": [
    "dataset.groupby('AgeGroup')['Salary'].mean()"
   ]
  },
  {
   "cell_type": "code",
   "execution_count": 81,
   "id": "663121f1",
   "metadata": {},
   "outputs": [
    {
     "data": {
      "text/plain": [
       "AgeGroup\n",
       "19 - 24    1654380.0\n",
       "25 - 30    4000000.0\n",
       "31 - 35    4500000.0\n",
       "36 - 40    2814000.0\n",
       "Name: Salary, dtype: float64"
      ]
     },
     "execution_count": 81,
     "metadata": {},
     "output_type": "execute_result"
    }
   ],
   "source": [
    "dataset.groupby('AgeGroup')['Salary'].median()"
   ]
  },
  {
   "cell_type": "code",
   "execution_count": 83,
   "id": "06acaf42",
   "metadata": {},
   "outputs": [
    {
     "data": {
      "text/html": [
       "<div>\n",
       "<style scoped>\n",
       "    .dataframe tbody tr th:only-of-type {\n",
       "        vertical-align: middle;\n",
       "    }\n",
       "\n",
       "    .dataframe tbody tr th {\n",
       "        vertical-align: top;\n",
       "    }\n",
       "\n",
       "    .dataframe thead th {\n",
       "        text-align: right;\n",
       "    }\n",
       "</style>\n",
       "<table border=\"1\" class=\"dataframe\">\n",
       "  <thead>\n",
       "    <tr style=\"text-align: right;\">\n",
       "      <th></th>\n",
       "      <th>count</th>\n",
       "      <th>mean</th>\n",
       "      <th>std</th>\n",
       "      <th>min</th>\n",
       "      <th>25%</th>\n",
       "      <th>50%</th>\n",
       "      <th>75%</th>\n",
       "      <th>max</th>\n",
       "    </tr>\n",
       "    <tr>\n",
       "      <th>AgeGroup</th>\n",
       "      <th></th>\n",
       "      <th></th>\n",
       "      <th></th>\n",
       "      <th></th>\n",
       "      <th></th>\n",
       "      <th></th>\n",
       "      <th></th>\n",
       "      <th></th>\n",
       "    </tr>\n",
       "  </thead>\n",
       "  <tbody>\n",
       "    <tr>\n",
       "      <th>19 - 24</th>\n",
       "      <td>150.0</td>\n",
       "      <td>2.706212e+06</td>\n",
       "      <td>3.188468e+06</td>\n",
       "      <td>30888.0</td>\n",
       "      <td>960457.0</td>\n",
       "      <td>1654380.0</td>\n",
       "      <td>3095650.0</td>\n",
       "      <td>16407501.0</td>\n",
       "    </tr>\n",
       "    <tr>\n",
       "      <th>25 - 30</th>\n",
       "      <td>207.0</td>\n",
       "      <td>5.895838e+06</td>\n",
       "      <td>5.535586e+06</td>\n",
       "      <td>55722.0</td>\n",
       "      <td>1100602.0</td>\n",
       "      <td>4000000.0</td>\n",
       "      <td>9106741.5</td>\n",
       "      <td>22359364.0</td>\n",
       "    </tr>\n",
       "    <tr>\n",
       "      <th>31 - 35</th>\n",
       "      <td>67.0</td>\n",
       "      <td>6.662026e+06</td>\n",
       "      <td>6.281446e+06</td>\n",
       "      <td>200600.0</td>\n",
       "      <td>2092835.5</td>\n",
       "      <td>4500000.0</td>\n",
       "      <td>9697402.5</td>\n",
       "      <td>22970500.0</td>\n",
       "    </tr>\n",
       "    <tr>\n",
       "      <th>36 - 40</th>\n",
       "      <td>19.0</td>\n",
       "      <td>3.847918e+06</td>\n",
       "      <td>5.516191e+06</td>\n",
       "      <td>222888.0</td>\n",
       "      <td>947276.0</td>\n",
       "      <td>2814000.0</td>\n",
       "      <td>3815259.5</td>\n",
       "      <td>25000000.0</td>\n",
       "    </tr>\n",
       "  </tbody>\n",
       "</table>\n",
       "</div>"
      ],
      "text/plain": [
       "          count          mean           std       min        25%        50%   \n",
       "AgeGroup                                                                      \n",
       "19 - 24   150.0  2.706212e+06  3.188468e+06   30888.0   960457.0  1654380.0  \\\n",
       "25 - 30   207.0  5.895838e+06  5.535586e+06   55722.0  1100602.0  4000000.0   \n",
       "31 - 35    67.0  6.662026e+06  6.281446e+06  200600.0  2092835.5  4500000.0   \n",
       "36 - 40    19.0  3.847918e+06  5.516191e+06  222888.0   947276.0  2814000.0   \n",
       "\n",
       "                75%         max  \n",
       "AgeGroup                         \n",
       "19 - 24   3095650.0  16407501.0  \n",
       "25 - 30   9106741.5  22359364.0  \n",
       "31 - 35   9697402.5  22970500.0  \n",
       "36 - 40   3815259.5  25000000.0  "
      ]
     },
     "execution_count": 83,
     "metadata": {},
     "output_type": "execute_result"
    }
   ],
   "source": [
    "dataset.groupby('AgeGroup')['Salary'].describe()"
   ]
  },
  {
   "cell_type": "markdown",
   "id": "9f138f12",
   "metadata": {},
   "source": [
    "This is part 2 of assignment 3\n",
    "IRIS"
   ]
  },
  {
   "cell_type": "code",
   "execution_count": null,
   "id": "55409214",
   "metadata": {},
   "outputs": [],
   "source": []
  },
  {
   "cell_type": "code",
   "execution_count": null,
   "id": "a63fc1bd",
   "metadata": {},
   "outputs": [],
   "source": []
  },
  {
   "cell_type": "code",
   "execution_count": null,
   "id": "a44695fd",
   "metadata": {},
   "outputs": [],
   "source": []
  },
  {
   "cell_type": "code",
   "execution_count": null,
   "id": "22c07a76",
   "metadata": {},
   "outputs": [],
   "source": []
  },
  {
   "cell_type": "code",
   "execution_count": null,
   "id": "171d4411",
   "metadata": {},
   "outputs": [],
   "source": []
  },
  {
   "cell_type": "code",
   "execution_count": null,
   "id": "5090c8a9",
   "metadata": {},
   "outputs": [],
   "source": []
  },
  {
   "cell_type": "code",
   "execution_count": null,
   "id": "9522ab5f",
   "metadata": {},
   "outputs": [],
   "source": []
  },
  {
   "cell_type": "code",
   "execution_count": null,
   "id": "f71de2aa",
   "metadata": {},
   "outputs": [],
   "source": []
  },
  {
   "cell_type": "code",
   "execution_count": null,
   "id": "ab379856",
   "metadata": {},
   "outputs": [],
   "source": []
  }
 ],
 "metadata": {
  "kernelspec": {
   "display_name": "Python 3 (ipykernel)",
   "language": "python",
   "name": "python3"
  },
  "language_info": {
   "codemirror_mode": {
    "name": "ipython",
    "version": 3
   },
   "file_extension": ".py",
   "mimetype": "text/x-python",
   "name": "python",
   "nbconvert_exporter": "python",
   "pygments_lexer": "ipython3",
   "version": "3.10.11"
  }
 },
 "nbformat": 4,
 "nbformat_minor": 5
}
